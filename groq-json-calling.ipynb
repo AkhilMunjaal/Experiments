{
 "cells": [
  {
   "cell_type": "code",
   "execution_count": 1,
   "id": "852b4d3c-a928-48c6-bacc-d5207f23e968",
   "metadata": {
    "tags": []
   },
   "outputs": [],
   "source": [
    "! pip install -qU langchain-groq"
   ]
  },
  {
   "cell_type": "code",
   "execution_count": 4,
   "id": "3599604c-0fe4-4b4f-8871-fa043f2a6d14",
   "metadata": {
    "tags": []
   },
   "outputs": [],
   "source": [
    "from typing import List, Optional\n",
    "import json\n",
    "import os\n",
    "from dotenv import load_dotenv\n",
    "from pydantic import BaseModel, Field\n",
    "from groq import Groq\n"
   ]
  },
  {
   "cell_type": "code",
   "execution_count": 2,
   "id": "84349ef6",
   "metadata": {},
   "outputs": [
    {
     "data": {
      "text/plain": [
       "True"
      ]
     },
     "execution_count": 2,
     "metadata": {},
     "output_type": "execute_result"
    }
   ],
   "source": [
    "load_dotenv()"
   ]
  },
  {
   "cell_type": "code",
   "execution_count": 5,
   "id": "95ff18c6",
   "metadata": {},
   "outputs": [],
   "source": [
    "groq_api = os.getenv('GROQ_API')\n",
    "groq = Groq(api_key=groq_api)"
   ]
  },
  {
   "cell_type": "code",
   "execution_count": 10,
   "id": "0fa03945-3e57-4588-95be-80d787e47ea1",
   "metadata": {
    "tags": []
   },
   "outputs": [],
   "source": [
    "from langchain_community.document_loaders import PyPDFLoader\n",
    "loader = PyPDFLoader(\"SDS_GHS_JP_EN_2019-03-13.pdf\")\n",
    "pages = loader.load_and_split()"
   ]
  },
  {
   "cell_type": "code",
   "execution_count": 11,
   "id": "a8729764-f30c-4d70-b411-9fad50c20c96",
   "metadata": {
    "tags": []
   },
   "outputs": [
    {
     "data": {
      "text/plain": [
       "'(PEMP ) 1/6 \\n \\nSAFETY DATA SHEET  \\n \\n \\n1. IDENTIFICATION OF THE SUBSTANCE OR MIXTURE AND OF THE SUPPLIER \\nProduct name  PEMP  \\nManufacture  SC ORGANIC CHEMICAL CO., LTD. \\nAddress  3-10-24, Tadaoka -kita, Tadaoka -cho, Senboku -gun, Osaka \\nPrefecture 595 -0811 Japan  \\nPhone Number  +81-725-33-0478  \\nEmergency phone number  Department  : Technology department  \\n Phone  : +81-725-33-0478  \\n FAX : +81-725-33-0479  \\nRecommended use of the chemical and  restrictions on use \\nChain transfer agents , Cross -linking agents , Epoxy  curing \\nagents , Photocuring monomer for thiol -ene polymerization \\nsystem  \\n \\n2. HAZARDS IDENTIFICATION  \\nGHS Classification  \\nPhysical hazards  \\nExplosive  Not applicable  \\nFlammable  gases  (including chemically unstable gases)  \\n Not applicable  \\nAerosols  Not applicable  \\nOxidizing gases  Not applicable  \\nGases under  pressure  Not applicable  \\nFlammable liquids  Not classified  \\nFlammable  solids  Not applicable  \\nSelf-reactive  substances and mixtures  \\n Classification not possible  \\nPyrophoric liquids Classification not possible  \\nPyrophoric solids  Not applicable  \\nSelf-heating  substances and mixtures  \\n Classification not possible  \\nSubstances and mixtures  which,  in contact  with  water , emit flammable  gases  \\n Not applicable  \\nOxidizing liquids  Not applicable  \\nOxidizing  solids  Not applicable  \\nOrganic  peroxides  Not applicable  \\nCorrosive to metals  Classification not possible'"
      ]
     },
     "execution_count": 11,
     "metadata": {},
     "output_type": "execute_result"
    }
   ],
   "source": [
    "pages[0].page_content"
   ]
  },
  {
   "cell_type": "code",
   "execution_count": null,
   "id": "e335fdda-2875-4a0d-91de-6fa77b960e2e",
   "metadata": {},
   "outputs": [],
   "source": []
  },
  {
   "cell_type": "code",
   "execution_count": 4,
   "id": "cb353c7e-5b57-4e98-8800-cfdf7db072d0",
   "metadata": {
    "tags": []
   },
   "outputs": [],
   "source": [
    "class Extraction(BaseModel):\n",
    "    product_name: str = Field(description=\"name of the product\")\n",
    "    manufacturer: str = Field(description=\"name of the manufacturer\")\n",
    "    address: str = Field(description=\"address of the manufacturer\")\n",
    "    use_of_the_chemical: str = Field(description=\"comma separated string values for recommended use of the chemical and restrictions on use\")\n",
    "\n",
    "\n",
    "class Hazards_Identification(BaseModel):\n",
    "    physical_hazards: List[dict] = Field(description=\"list of key value pairs of physical hazards.\")"
   ]
  },
  {
   "cell_type": "code",
   "execution_count": 6,
   "id": "2c7cfce7-51f2-491a-91b6-2bc91de05f8e",
   "metadata": {
    "tags": []
   },
   "outputs": [],
   "source": [
    "class All_Data(BaseModel):\n",
    "    information : Extraction\n",
    "    hazards : Hazards_Identification"
   ]
  },
  {
   "cell_type": "code",
   "execution_count": 8,
   "id": "13a51f72-c055-47c9-856b-2c617f958d75",
   "metadata": {
    "tags": []
   },
   "outputs": [
    {
     "name": "stdout",
     "output_type": "stream",
     "text": [
      "{\n",
      "  \"$defs\": {\n",
      "    \"Extraction\": {\n",
      "      \"properties\": {\n",
      "        \"product_name\": {\n",
      "          \"description\": \"name of the product\",\n",
      "          \"title\": \"Product Name\",\n",
      "          \"type\": \"string\"\n",
      "        },\n",
      "        \"manufacturer\": {\n",
      "          \"description\": \"name of the manufacturer\",\n",
      "          \"title\": \"Manufacturer\",\n",
      "          \"type\": \"string\"\n",
      "        },\n",
      "        \"address\": {\n",
      "          \"description\": \"address of the manufacturer\",\n",
      "          \"title\": \"Address\",\n",
      "          \"type\": \"string\"\n",
      "        },\n",
      "        \"use_of_the_chemical\": {\n",
      "          \"description\": \"comma separated string values for recommended use of the chemical and restrictions on use\",\n",
      "          \"title\": \"Use Of The Chemical\",\n",
      "          \"type\": \"string\"\n",
      "        }\n",
      "      },\n",
      "      \"required\": [\n",
      "        \"product_name\",\n",
      "        \"manufacturer\",\n",
      "        \"address\",\n",
      "        \"use_of_the_chemical\"\n",
      "      ],\n",
      "      \"title\": \"Extraction\",\n",
      "      \"type\": \"object\"\n",
      "    },\n",
      "    \"Hazards_Identification\": {\n",
      "      \"properties\": {\n",
      "        \"physical_hazards\": {\n",
      "          \"description\": \"list of key value pairs of physical hazards.\",\n",
      "          \"items\": {\n",
      "            \"type\": \"object\"\n",
      "          },\n",
      "          \"title\": \"Physical Hazards\",\n",
      "          \"type\": \"array\"\n",
      "        }\n",
      "      },\n",
      "      \"required\": [\n",
      "        \"physical_hazards\"\n",
      "      ],\n",
      "      \"title\": \"Hazards_Identification\",\n",
      "      \"type\": \"object\"\n",
      "    }\n",
      "  },\n",
      "  \"properties\": {\n",
      "    \"information\": {\n",
      "      \"$ref\": \"#/$defs/Extraction\"\n",
      "    },\n",
      "    \"hazards\": {\n",
      "      \"$ref\": \"#/$defs/Hazards_Identification\"\n",
      "    }\n",
      "  },\n",
      "  \"required\": [\n",
      "    \"information\",\n",
      "    \"hazards\"\n",
      "  ],\n",
      "  \"title\": \"All_Data\",\n",
      "  \"type\": \"object\"\n",
      "}\n"
     ]
    }
   ],
   "source": [
    "print(json.dumps(All_Data.model_json_schema(), indent=2))"
   ]
  },
  {
   "cell_type": "code",
   "execution_count": 9,
   "id": "bb3ed540-4ce5-4814-bc91-8557489edd64",
   "metadata": {
    "tags": []
   },
   "outputs": [],
   "source": [
    "def extract_data(ocr_text: str) -> All_Data:\n",
    "    chat_completion = groq.chat.completions.create(\n",
    "        messages=[\n",
    "            {\n",
    "                \"role\": \"system\",\n",
    "                \"content\": \"You are an information extractor agent. Your task is to extract specific pieces of information from the given text and outputs in JSON.. If not explicitly provided do not guess. Return empty string for respective key if data not extracted.\\n\"\n",
    "                f\" The JSON object must use the schema: {json.dumps(All_Data.model_json_schema(), indent=2)}\",\n",
    "            },\n",
    "            {\n",
    "                \"role\": \"user\",\n",
    "                \"content\": f\"Given text : \\n {ocr_text}\",\n",
    "            },\n",
    "        ],\n",
    "        model=\"llama3-8b-8192\",\n",
    "        temperature=0,\n",
    "        stream=False,\n",
    "        response_format={\"type\": \"json_object\"},\n",
    "    )\n",
    "    return All_Data.model_validate_json(chat_completion.choices[0].message.content)\n"
   ]
  },
  {
   "cell_type": "code",
   "execution_count": 12,
   "id": "203d89d0-17f7-4c21-8130-899d0df7a4fc",
   "metadata": {
    "tags": []
   },
   "outputs": [
    {
     "data": {
      "text/plain": [
       "All_Data(information=Extraction(product_name='PEMP', manufacturer='SC ORGANIC CHEMICAL CO., LTD.', address='3-10-24, Tadaoka-kita, Tadaoka-cho, Senboku-gun, Osaka Prefecture 595-0811 Japan', use_of_the_chemical='Chain transfer agents, Cross-linking agents, Epoxy curing agents, Photocuring monomer for thiol-ene polymerization system'), hazards=Hazards_Identification(physical_hazards=[{'key': 'Explosive', 'value': 'Not applicable'}, {'key': 'Flammable gases (including chemically unstable gases)', 'value': 'Not applicable'}, {'key': 'Aerosols', 'value': 'Not applicable'}, {'key': 'Oxidizing gases', 'value': 'Not applicable'}, {'key': 'Gases under pressure', 'value': 'Not applicable'}, {'key': 'Flammable liquids', 'value': 'Not classified'}, {'key': 'Flammable solids', 'value': 'Not applicable'}, {'key': 'Self-reactive substances and mixtures', 'value': 'Classification not possible'}, {'key': 'Pyrophoric liquids', 'value': 'Classification not possible'}, {'key': 'Pyrophoric solids', 'value': 'Not applicable'}, {'key': 'Self-heating substances and mixtures', 'value': 'Classification not possible'}, {'key': 'Substances and mixtures which, in contact with water, emit flammable gases', 'value': 'Not applicable'}, {'key': 'Oxidizing liquids', 'value': 'Not applicable'}, {'key': 'Oxidizing solids', 'value': 'Not applicable'}, {'key': 'Organic peroxides', 'value': 'Not applicable'}, {'key': 'Corrosive to metals', 'value': 'Classification not possible'}]))"
      ]
     },
     "execution_count": 12,
     "metadata": {},
     "output_type": "execute_result"
    }
   ],
   "source": [
    "extract_data(pages[0].page_content)"
   ]
  },
  {
   "cell_type": "code",
   "execution_count": 14,
   "id": "e1cde117-38cd-466d-aa0c-df182b8a5210",
   "metadata": {
    "tags": []
   },
   "outputs": [],
   "source": [
    "output = extract_data(pages[0].page_content)\n"
   ]
  },
  {
   "cell_type": "code",
   "execution_count": 18,
   "id": "23f54baa-3740-4643-adee-234bf9510f86",
   "metadata": {
    "tags": []
   },
   "outputs": [],
   "source": [
    "\n",
    "\n",
    "def print_data(output: All_Data):\n",
    "\n",
    "    print(\"information:\")\n",
    "    for key, value in enumerate(output.information, start=1):\n",
    "        print(f\"{key}. {value}\")\n",
    "        \n",
    "    print(\"\\nhazards:\")\n",
    "    for key, value in enumerate(output.hazards, start=1):\n",
    "        print(f\"{key}. {value}\")\n"
   ]
  },
  {
   "cell_type": "code",
   "execution_count": 19,
   "id": "f6b2eb54-0b25-4920-a1c4-0faf26928717",
   "metadata": {
    "tags": []
   },
   "outputs": [
    {
     "name": "stdout",
     "output_type": "stream",
     "text": [
      "information:\n",
      "1. ('product_name', 'PEMP')\n",
      "2. ('manufacturer', 'SC ORGANIC CHEMICAL CO., LTD.')\n",
      "3. ('address', '3-10-24, Tadaoka-kita, Tadaoka-cho, Senboku-gun, Osaka Prefecture 595-0811 Japan')\n",
      "4. ('use_of_the_chemical', 'Chain transfer agents, Cross-linking agents, Epoxy curing agents, Photocuring monomer for thiol-ene polymerization system')\n",
      "\n",
      "hazards:\n",
      "1. ('physical_hazards', [{'key': 'Explosive', 'value': 'Not applicable'}, {'key': 'Flammable gases (including chemically unstable gases)', 'value': 'Not applicable'}, {'key': 'Aerosols', 'value': 'Not applicable'}, {'key': 'Oxidizing gases', 'value': 'Not applicable'}, {'key': 'Gases under pressure', 'value': 'Not applicable'}, {'key': 'Flammable liquids', 'value': 'Not classified'}, {'key': 'Flammable solids', 'value': 'Not applicable'}, {'key': 'Self-reactive substances and mixtures', 'value': 'Classification not possible'}, {'key': 'Pyrophoric liquids', 'value': 'Classification not possible'}, {'key': 'Pyrophoric solids', 'value': 'Not applicable'}, {'key': 'Self-heating substances and mixtures', 'value': 'Classification not possible'}, {'key': 'Substances and mixtures which, in contact with water, emit flammable gases', 'value': 'Not applicable'}, {'key': 'Oxidizing liquids', 'value': 'Not applicable'}, {'key': 'Oxidizing solids', 'value': 'Not applicable'}, {'key': 'Organic peroxides', 'value': 'Not applicable'}, {'key': 'Corrosive to metals', 'value': 'Classification not possible'}])\n"
     ]
    }
   ],
   "source": [
    "print_data(output)"
   ]
  },
  {
   "cell_type": "code",
   "execution_count": null,
   "id": "f9dd2714-e172-4a55-82e4-c3a282455737",
   "metadata": {},
   "outputs": [],
   "source": []
  }
 ],
 "metadata": {
  "kernelspec": {
   "display_name": "Python 3",
   "language": "python",
   "name": "python3"
  },
  "language_info": {
   "codemirror_mode": {
    "name": "ipython",
    "version": 3
   },
   "file_extension": ".py",
   "mimetype": "text/x-python",
   "name": "python",
   "nbconvert_exporter": "python",
   "pygments_lexer": "ipython3",
   "version": "3.9.6"
  }
 },
 "nbformat": 4,
 "nbformat_minor": 5
}
