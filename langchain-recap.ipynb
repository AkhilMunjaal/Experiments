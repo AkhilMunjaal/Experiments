{
 "cells": [
  {
   "cell_type": "code",
   "execution_count": 3,
   "metadata": {},
   "outputs": [],
   "source": [
    "! python3 -m venv .venv\n",
    "! source .venv/bin/activate"
   ]
  },
  {
   "cell_type": "code",
   "execution_count": null,
   "metadata": {},
   "outputs": [],
   "source": [
    "! pip install -r requirements.txt"
   ]
  },
  {
   "cell_type": "markdown",
   "metadata": {},
   "source": [
    "### Document Loaders :\n"
   ]
  },
  {
   "cell_type": "code",
   "execution_count": 2,
   "metadata": {},
   "outputs": [],
   "source": [
    "\n",
    "from langchain.document_loaders import PyPDFLoader  # type: ignore"
   ]
  },
  {
   "cell_type": "code",
   "execution_count": 3,
   "metadata": {},
   "outputs": [],
   "source": [
    "loader = PyPDFLoader('fixtures/AkhilMunjal_Resume2024.pdf')"
   ]
  },
  {
   "cell_type": "code",
   "execution_count": 11,
   "metadata": {},
   "outputs": [
    {
     "name": "stderr",
     "output_type": "stream",
     "text": [
      "Ignoring wrong pointing object 6 0 (offset 0)\n",
      "Ignoring wrong pointing object 8 0 (offset 0)\n",
      "Ignoring wrong pointing object 10 0 (offset 0)\n",
      "Ignoring wrong pointing object 15 0 (offset 0)\n",
      "Ignoring wrong pointing object 17 0 (offset 0)\n",
      "Ignoring wrong pointing object 19 0 (offset 0)\n",
      "Ignoring wrong pointing object 21 0 (offset 0)\n",
      "Ignoring wrong pointing object 23 0 (offset 0)\n",
      "Ignoring wrong pointing object 32 0 (offset 0)\n",
      "Ignoring wrong pointing object 34 0 (offset 0)\n",
      "Ignoring wrong pointing object 37 0 (offset 0)\n"
     ]
    }
   ],
   "source": [
    "pages = loader.load_and_split()"
   ]
  },
  {
   "cell_type": "code",
   "execution_count": 17,
   "metadata": {},
   "outputs": [
    {
     "name": "stdout",
     "output_type": "stream",
     "text": [
      "CERTIFICATION AND TRAINING ● Deep Neural Networks for CV and NLP (CCE, IISc Bangalore) – Graded A+ ● Applied Machine Learning in Python (Coursera) - Certificate ● Visual Analytics with Tableau (Coursera) - Certificate  ● Neural Networks and Deep Learning (Coursera) - Certificate ● Internet of Things with Embedded Linux and Raspberry Pi – NetMax Technologies Pvt. Ltd.   SKILLS  Programming: Python Programming, PyTorch, SQL Python Libraries:  NumPy, Pandas, Matplotlib, SkLearn, NLTK, HuggingFace, LangChain Development Tools:  AWS Sagemaker, AWS Lambda, AWS Quicksight, Tableau, MS Excel, Git, Weights & Biases Technical Skills: Machine Learning Algorithms, Deep Learning, Natural Language Processing (NLP), GenerativeAI\n"
     ]
    }
   ],
   "source": [
    "print(pages[1].page_content)"
   ]
  },
  {
   "cell_type": "markdown",
   "metadata": {},
   "source": [
    "### Embeddings using ollama"
   ]
  },
  {
   "cell_type": "code",
   "execution_count": 18,
   "metadata": {},
   "outputs": [],
   "source": [
    "from langchain_community.embeddings import OllamaEmbeddings"
   ]
  },
  {
   "cell_type": "code",
   "execution_count": 21,
   "metadata": {},
   "outputs": [],
   "source": [
    "embeddings_model = OllamaEmbeddings(model='llama3')\n"
   ]
  },
  {
   "cell_type": "code",
   "execution_count": 22,
   "metadata": {},
   "outputs": [
    {
     "name": "stdout",
     "output_type": "stream",
     "text": [
      "Number of documents embedded: 5\n",
      "Dimension of each embedding: 4096\n"
     ]
    }
   ],
   "source": [
    "embeddings = embeddings_model.embed_documents(\n",
    "    [\"Hi there!\", \"Oh, hello!\", \"What's your name?\", \"My friends call me World\", \"Hello World!\"]\n",
    ")\n",
    "print(\"Number of documents embedded:\", len(embeddings))\n",
    "print(\"Dimension of each embedding:\", len(embeddings[0]))"
   ]
  },
  {
   "cell_type": "markdown",
   "metadata": {},
   "source": [
    "### Llama3 via Ollama "
   ]
  },
  {
   "cell_type": "code",
   "execution_count": 28,
   "metadata": {},
   "outputs": [],
   "source": [
    "from langchain_ollama import ChatOllama\n",
    "from langchain_core.messages import HumanMessage, SystemMessage\n",
    "\n",
    "llm = ChatOllama(model=\"llama3\", temperature=1)\n",
    "\n",
    "messages = [\n",
    "    SystemMessage(\n",
    "        content=\"You are a helpful assistant.\"\n",
    "    ),\n",
    "    HumanMessage(\n",
    "        content=\"What is the capital of France?\"\n",
    "    ),\n",
    "]"
   ]
  },
  {
   "cell_type": "code",
   "execution_count": 29,
   "metadata": {},
   "outputs": [
    {
     "data": {
      "text/plain": [
       "AIMessage(content='The capital of France is Paris!', response_metadata={'model': 'llama3', 'created_at': '2024-08-06T14:29:53.922812Z', 'message': {'role': 'assistant', 'content': ''}, 'done_reason': 'stop', 'done': True, 'total_duration': 468607125, 'load_duration': 27393791, 'prompt_eval_count': 28, 'prompt_eval_duration': 164742000, 'eval_count': 8, 'eval_duration': 273997000}, id='run-f392b3cf-2223-4d1a-b384-195b2a0dc18a-0', usage_metadata={'input_tokens': 28, 'output_tokens': 8, 'total_tokens': 36})"
      ]
     },
     "execution_count": 29,
     "metadata": {},
     "output_type": "execute_result"
    }
   ],
   "source": [
    "llm.invoke(messages)"
   ]
  },
  {
   "cell_type": "markdown",
   "metadata": {},
   "source": [
    "### Chaining using LCEL (langchain expression language)"
   ]
  },
  {
   "cell_type": "code",
   "execution_count": 30,
   "metadata": {},
   "outputs": [
    {
     "data": {
      "text/plain": [
       "'Here are the colors of the rainbow, in order:\\n\\n1. Red\\n2. Orange\\n3. Yellow\\n4. Green\\n5. Blue\\n6. Indigo\\n7. Violet\\n\\nNote: You can also remember the colors of the rainbow using the acronym ROY G BIV, with each letter standing for a color!'"
      ]
     },
     "execution_count": 30,
     "metadata": {},
     "output_type": "execute_result"
    }
   ],
   "source": [
    "from langchain_core.prompts import PromptTemplate\n",
    "from langchain_core.output_parsers import StrOutputParser\n",
    "\n",
    "prompt = PromptTemplate.from_template(\n",
    "    \"List all the colors in a {item}.\"\n",
    ")\n",
    "runnable = prompt | llm | StrOutputParser()\n",
    "runnable.invoke({\"item\": \"rainbow\"})"
   ]
  },
  {
   "cell_type": "markdown",
   "metadata": {},
   "source": [
    "### Sequential Chaining.\n"
   ]
  },
  {
   "cell_type": "code",
   "execution_count": 31,
   "metadata": {},
   "outputs": [],
   "source": [
    "post_prompt = PromptTemplate.from_template(\n",
    "    \"\"\"You are a software developer in AI. Given the theme, write an acticle mentioning pros and cons for it.\n",
    "\n",
    "Theme: {theme}\n",
    "Content: This is the article based on the theme above:\"\"\"\n",
    ")\n",
    "\n",
    "review_prompt = PromptTemplate.from_template(\n",
    "    \"\"\"You are an expert AI article manager. Given the article, it is your job to write a review for the post.\n",
    "\n",
    "Articlet:\n",
    "{post}\n",
    "Review from an AI Expert:\"\"\"\n",
    ")\n"
   ]
  },
  {
   "cell_type": "code",
   "execution_count": 33,
   "metadata": {},
   "outputs": [],
   "source": [
    "chain = (\n",
    "    {\"post\": post_prompt | llm | StrOutputParser()}\n",
    "    | review_prompt\n",
    "    | llm\n",
    "    | StrOutputParser()\n",
    ")\n",
    "result = chain.invoke({\"theme\": \"AI in the field of healthcare.\"})"
   ]
  },
  {
   "cell_type": "code",
   "execution_count": 34,
   "metadata": {},
   "outputs": [
    {
     "name": "stdout",
     "output_type": "stream",
     "text": [
      "**Expert Review:** \n",
      "\n",
      "This article provides a comprehensive analysis of the potential benefits and drawbacks of integrating Artificial Intelligence (AI) into the healthcare system. The author has done an excellent job of highlighting both the advantages and limitations of AI in healthcare, making it a valuable resource for anyone interested in this topic.\n",
      "\n",
      "**Strengths:**\n",
      "\n",
      "1. **Balanced Perspective**: The article strikes a perfect balance between the pros and cons of AI in healthcare, presenting both sides with equal weight.\n",
      "2. **In-depth Analysis**: The author provides detailed explanations of each point, making it easy to understand the potential impact of AI on various aspects of healthcare.\n",
      "3. **Well-structured:** The structure of the article is logical and well-organized, making it a pleasure to read.\n",
      "\n",
      "**Weaknesses:**\n",
      "\n",
      "1. **Limited Depth**: While the article covers many topics related to AI in healthcare, some readers may find that certain sections could be expanded upon for further clarity.\n",
      "2. **Lack of Specific Examples**: The article would benefit from including concrete examples or case studies to illustrate the potential benefits and drawbacks of AI in specific areas of healthcare.\n",
      "\n",
      "**Recommendations:**\n",
      "\n",
      "1. **Incorporate Real-World Scenarios:** To make the article more engaging, it would be helpful to include real-world scenarios where AI has been successfully implemented or where challenges have arisen.\n",
      "2. **Emphasize Potential for Innovation**: The article could emphasize the potential for AI innovation in healthcare, highlighting areas where AI can drive breakthroughs and improvements.\n",
      "\n",
      "**Rating:**\n",
      "\n",
      "I rate this article 4.5 out of 5 stars. While it is an excellent overview of the benefits and limitations of AI in healthcare, it could be improved by incorporating real-world examples and emphasizing the potential for innovation.\n",
      "\n",
      "**Recommendation to Read:** \n",
      "\n",
      "This article is a must-read for anyone interested in the intersection of AI and healthcare. It provides a comprehensive understanding of both the opportunities and challenges presented by AI's integration into the healthcare system.\n"
     ]
    }
   ],
   "source": [
    "print(result)"
   ]
  },
  {
   "cell_type": "code",
   "execution_count": null,
   "metadata": {},
   "outputs": [],
   "source": []
  }
 ],
 "metadata": {
  "kernelspec": {
   "display_name": ".venv",
   "language": "python",
   "name": "python3"
  },
  "language_info": {
   "codemirror_mode": {
    "name": "ipython",
    "version": 3
   },
   "file_extension": ".py",
   "mimetype": "text/x-python",
   "name": "python",
   "nbconvert_exporter": "python",
   "pygments_lexer": "ipython3",
   "version": "3.9.6"
  }
 },
 "nbformat": 4,
 "nbformat_minor": 2
}
