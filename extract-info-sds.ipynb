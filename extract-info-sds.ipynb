{
 "cells": [
  {
   "cell_type": "code",
   "execution_count": null,
   "id": "493b2c85-4794-4afa-8775-1932458cd9c3",
   "metadata": {
    "collapsed": true,
    "jupyter": {
     "outputs_hidden": true
    },
    "tags": []
   },
   "outputs": [],
   "source": [
    "! pip3 install langchain-groq python-dotenv"
   ]
  },
  {
   "cell_type": "code",
   "execution_count": null,
   "id": "992379e0-eb02-467e-9116-488b0c3cce22",
   "metadata": {
    "tags": []
   },
   "outputs": [],
   "source": [
    "from langchain_community.document_loaders import PyPDFLoader\n",
    "import os\n",
    "import json\n",
    "import sqlite3\n",
    "from dotenv import load_dotenv\n"
   ]
  },
  {
   "cell_type": "code",
   "execution_count": 4,
   "id": "5477f800",
   "metadata": {},
   "outputs": [
    {
     "data": {
      "text/plain": [
       "True"
      ]
     },
     "execution_count": 4,
     "metadata": {},
     "output_type": "execute_result"
    }
   ],
   "source": [
    "load_dotenv()"
   ]
  },
  {
   "cell_type": "code",
   "execution_count": 7,
   "id": "f7f7d88d",
   "metadata": {},
   "outputs": [],
   "source": [
    "groq_api = os.getenv('GROQ_API')"
   ]
  },
  {
   "cell_type": "code",
   "execution_count": 9,
   "id": "b8d16a2d-d674-4acd-8bae-df26280c84c3",
   "metadata": {
    "tags": []
   },
   "outputs": [],
   "source": [
    "from typing import List, Optional\n",
    "import json\n",
    "\n",
    "from pydantic import BaseModel, Field\n",
    "from groq import Groq\n",
    "\n",
    "groq = Groq(api_key=groq_api)"
   ]
  },
  {
   "cell_type": "code",
   "execution_count": 3,
   "id": "e8c26f31-1789-426f-8926-47fd3edd663e",
   "metadata": {
    "tags": []
   },
   "outputs": [],
   "source": [
    "def list_files_in_directory(directory_path):\n",
    "    try:\n",
    "        files_list = []\n",
    "        \n",
    "        for root, _, files in os.walk(directory_path):\n",
    "            if '.ipynb_checkpoints' in root:\n",
    "                continue\n",
    "            for file in files:\n",
    "                full_path = os.path.join(root, file)\n",
    "                files_list.append(full_path)\n",
    "        \n",
    "        return files_list\n",
    "    except Exception as e:\n",
    "        return str(e)\n",
    "\n",
    "directory_path = './DORIS/'\n",
    "files = list_files_in_directory(directory_path)\n"
   ]
  },
  {
   "cell_type": "code",
   "execution_count": 4,
   "id": "aef3fa8d-315f-4b9a-a066-90a90f3ea5d5",
   "metadata": {
    "tags": []
   },
   "outputs": [],
   "source": [
    "class Extraction(BaseModel):\n",
    "    product_name: str = Field(description=\"name of the product\")\n",
    "    manufacturer: str = Field(description=\"name of the manufacturer\")\n",
    "    address: str = Field(description=\"address of the manufacturer\")\n",
    "    # use_of_the_chemical: str = Field(description=\"comma separated string values for recommended use of the chemical and restrictions on use\")\n"
   ]
  },
  {
   "cell_type": "code",
   "execution_count": 33,
   "id": "806b3d02-27e5-40b1-a33d-21a4625d7811",
   "metadata": {
    "tags": []
   },
   "outputs": [],
   "source": [
    "\n",
    "def is_pdf_and_starts_with_sds(file_path):\n",
    "    if not file_path.lower().endswith('.pdf'):\n",
    "        print(f'{file_path} : is not PDF')\n",
    "    \n",
    "    file_name = os.path.basename(file_path)\n",
    "    if file_name.startswith('SDS'):\n",
    "        print(f'{file_path} : is an sds document.')\n",
    "        try:\n",
    "            loader = PyPDFLoader(file_path)\n",
    "            pages = loader.load_and_split()\n",
    "            info_page = pages[0].page_content\n",
    "            chat_completion = groq.chat.completions.create(\n",
    "                messages=[\n",
    "                    {\n",
    "                        \"role\": \"system\",\n",
    "                        \"content\": \"You are an information extractor agent. Your task is to extract specific pieces of information from the given text and outputs in JSON.. If not explicitly provided do not guess. Return empty string for respective key if data not extracted.\\n\"\n",
    "                        f\" The JSON object must use the schema: {json.dumps(Extraction.model_json_schema(), indent=2)}\",\n",
    "                    },\n",
    "                    {\n",
    "                        \"role\": \"user\",\n",
    "                        \"content\": f\"Given text : \\n {info_page}\",\n",
    "                    },\n",
    "                ],\n",
    "                model=\"llama3-8b-8192\",\n",
    "                temperature=0,\n",
    "                stream=False,\n",
    "                response_format={\"type\": \"json_object\"},\n",
    "        )\n",
    "            return Extraction.model_validate_json(chat_completion.choices[0].message.content)\n",
    "        except:\n",
    "            print(f'Some error in parsing pdf : {file_path}')\n",
    "    else:\n",
    "        print(f'{file_path} : File is not SDS file.')"
   ]
  },
  {
   "cell_type": "code",
   "execution_count": 6,
   "id": "c97582de-bf1b-4e83-aecb-18c2ec0a7683",
   "metadata": {
    "tags": []
   },
   "outputs": [
    {
     "data": {
      "text/plain": [
       "'./DORIS/795352/SDS_Other_GLO_EN_2001-01-19.pdf'"
      ]
     },
     "execution_count": 6,
     "metadata": {},
     "output_type": "execute_result"
    }
   ],
   "source": [
    "file_path = files[2]\n",
    "file_path"
   ]
  },
  {
   "cell_type": "code",
   "execution_count": 7,
   "id": "cd4c2ba2-5eda-464f-9d94-9a020ad1a11c",
   "metadata": {
    "tags": []
   },
   "outputs": [
    {
     "name": "stdout",
     "output_type": "stream",
     "text": [
      "This is an sds document.\n"
     ]
    }
   ],
   "source": [
    "result = is_pdf_and_starts_with_sds(file_path)"
   ]
  },
  {
   "cell_type": "code",
   "execution_count": 8,
   "id": "1b1040f8-ef22-4ca5-aae1-e29a274dfd26",
   "metadata": {
    "tags": []
   },
   "outputs": [
    {
     "data": {
      "text/plain": [
       "Extraction(product_name='WACKER BS 1701', manufacturer='Wacker-Chemie GmbH', address='Hanns-Seidel-Platz 4')"
      ]
     },
     "execution_count": 8,
     "metadata": {},
     "output_type": "execute_result"
    }
   ],
   "source": [
    "result"
   ]
  },
  {
   "cell_type": "code",
   "execution_count": 9,
   "id": "c92421dc-432a-4405-beb0-ce832816ce71",
   "metadata": {
    "tags": []
   },
   "outputs": [],
   "source": []
  },
  {
   "cell_type": "code",
   "execution_count": 10,
   "id": "3f39442a-d0d0-4ef0-8f25-b03f093d6cb8",
   "metadata": {
    "tags": []
   },
   "outputs": [],
   "source": [
    "def create_database(db_name: str):\n",
    "    conn = sqlite3.connect(db_name)\n",
    "    cursor = conn.cursor()\n",
    "    cursor.execute('''\n",
    "    CREATE TABLE IF NOT EXISTS Extraction (\n",
    "        id INTEGER PRIMARY KEY,\n",
    "        product_name TEXT NOT NULL,\n",
    "        manufacturer TEXT NOT NULL,\n",
    "        address TEXT NOT NULL,\n",
    "        UNIQUE(product_name, manufacturer)\n",
    "    )\n",
    "    ''')\n",
    "    conn.commit()"
   ]
  },
  {
   "cell_type": "code",
   "execution_count": 11,
   "id": "09a788d5-bbe9-44c3-b29c-7a5a98632cc1",
   "metadata": {
    "tags": []
   },
   "outputs": [],
   "source": [
    "def insert_extraction(cursor, extraction: Extraction):\n",
    "    with sqlite3.connect(db_name) as conn:\n",
    "        cursor = conn.cursor()        \n",
    "        # Check if the record already exists\n",
    "        cursor.execute('''\n",
    "        SELECT 1 FROM Extraction\n",
    "        WHERE product_name = ? AND manufacturer = ?\n",
    "        ''', (extraction.product_name, extraction.manufacturer))\n",
    "        \n",
    "        if cursor.fetchone():\n",
    "            print(f\"Record with product_name='{extraction.product_name}' and manufacturer='{extraction.manufacturer}' already exists.\")\n",
    "            return\n",
    "        \n",
    "        # Insert the new record\n",
    "        cursor.execute('''\n",
    "        INSERT INTO Extraction (product_name, manufacturer, address)\n",
    "        VALUES (:product_name, :manufacturer, :address)\n",
    "        ''', extraction.dict())\n",
    "        conn.commit()\n",
    "\n",
    "db_name = 'extractions.db'\n",
    "create_database(db_name)"
   ]
  },
  {
   "cell_type": "code",
   "execution_count": 32,
   "id": "181e65aa-703b-4990-b017-0c89fb416dd8",
   "metadata": {
    "tags": []
   },
   "outputs": [
    {
     "data": {
      "text/plain": [
       "133"
      ]
     },
     "execution_count": 32,
     "metadata": {},
     "output_type": "execute_result"
    }
   ],
   "source": [
    "len(files)"
   ]
  },
  {
   "cell_type": "code",
   "execution_count": 35,
   "id": "d2cd3df1-e330-4b71-9012-e661d2d26136",
   "metadata": {
    "tags": []
   },
   "outputs": [
    {
     "name": "stdout",
     "output_type": "stream",
     "text": [
      "./DORIS/795352/TDS_GLO_DE,EN_2001-03-01.pdf : File is not SDS file.\n",
      "./DORIS/795352/SoC_General_GLO_DE_2004-02-01.pdf : File is not SDS file.\n",
      "./DORIS/795352/SDS_Other_GLO_EN_2001-01-19.pdf : is an sds document.\n",
      "Record with product_name='WACKER BS 1701' and manufacturer='Wacker-Chemie GmbH' already exists.\n",
      "./DORIS/795352/SDS_Other_GLO_DE_2002-12-13.pdf : is an sds document.\n",
      "Some error in parsing pdf : ./DORIS/795352/SDS_Other_GLO_DE_2002-12-13.pdf\n",
      "./DORIS/795352/SDS_EU_NL_NL_2022-11-17.pdf : is an sds document.\n",
      "Record with product_name='' and manufacturer='' already exists.\n",
      "./DORIS/795352/SDS_Other_DE_EN_2004-02-27.pdf : is an sds document.\n",
      "Some error in parsing pdf : ./DORIS/795352/SDS_Other_DE_EN_2004-02-27.pdf\n",
      "./DORIS/795352/TDS_GLO_DE_2003-03-20.pdf : File is not SDS file.\n",
      "./DORIS/795352/SDS_EU_DE_DE_2022-11-15.PDF : is an sds document.\n",
      "Record with product_name='SILRES BS 1701' and manufacturer='Wacker Chemie AG' already exists.\n",
      "./DORIS/795352/SDS_Other_GLO_FR_2000-09-12.pdf : is an sds document.\n",
      "Record with product_name='WACKER BS 1701' and manufacturer='Wacker-Chemie GmbH' already exists.\n",
      "./DORIS/784246/SoC_Other_GLO_EN_2021-06-09.pdf : File is not SDS file.\n",
      "./DORIS/784246/CoA_GLO_EN_2023-10-17.xlsx : is not PDF\n",
      "./DORIS/784246/CoA_GLO_EN_2023-10-17.xlsx : File is not SDS file.\n",
      "./DORIS/784246/Certif_IFRA_GLO_EN_2021-03-09.pdf : File is not SDS file.\n",
      "./DORIS/784246/GIS_GLO_EN_2021-03-11.pdf : File is not SDS file.\n",
      "./DORIS/784246/TDS_GLO_EN_2021-03-15.pdf : File is not SDS file.\n",
      "./DORIS/784246/CoC_GLO_EN_2021-03-12.pdf : File is not SDS file.\n",
      "./DORIS/784246/SDS_US_US_EN_2021-08-23.pdf : is an sds document.\n",
      "Record with product_name='MOUNTAIN GIV B HN2021' and manufacturer='Givaudan Fragrances Corp.' already exists.\n",
      "./DORIS/763737/TDS_GLO_EN_Not available.pdf : File is not SDS file.\n",
      "./DORIS/763737/GIS_GLO_EN_2009-03-16.pdf : File is not SDS file.\n",
      "./DORIS/763737/Oth_GLO_EN_2009-03-12.pdf : File is not SDS file.\n",
      "./DORIS/763737/SDS_US_US_EN_2017-10-16.pdf : is an sds document.\n",
      "Record with product_name='Wollastonite, Calcium silicate mineral (calcium metasilicate) surface modified' and manufacturer='NYCO Minerals Inc.' already exists.\n",
      "./DORIS/763737/Certif_Other_GLO_EN_Not available.pdf : File is not SDS file.\n",
      "./DORIS/750233/SDS_EU_DE_DE_2019-03-28.pdf : is an sds document.\n",
      "Record with product_name='TEGO WET 500' and manufacturer='Evonik Resource Efficiency GmbH' already exists.\n",
      "./DORIS/750233/SDS_Other_GLO_EN_1998-04-02.pdf : is an sds document.\n",
      "Some error in parsing pdf : ./DORIS/750233/SDS_Other_GLO_EN_1998-04-02.pdf\n",
      "./DORIS/750233/SDS_US_US_EN_2019-04-02.pdf : is an sds document.\n",
      "Some error in parsing pdf : ./DORIS/750233/SDS_US_US_EN_2019-04-02.pdf\n",
      "./DORIS/750233/TDS_GLO_DE_2008-05-01.pdf : File is not SDS file.\n",
      "./DORIS/750233/SDS_Other_DE_EN_2007-10-27.pdf : is an sds document.\n",
      "Record with product_name='TEGO WET 500' and manufacturer='Evonik Tego Chemie GmbH' already exists.\n",
      "./DORIS/750233/CoA_GLO_EN_2015-11-19.pdf : File is not SDS file.\n",
      "./DORIS/750233/SDS_Other_DE_DE_2014-05-06.pdf : is an sds document.\n",
      "Record with product_name='TEGO WET 500' and manufacturer='Evonik Industries AG' already exists.\n",
      "./DORIS/750233/TDS_GLO_EN_2017-05-01.pdf : File is not SDS file.\n",
      "./DORIS/750233/Spec_GLO_EN_2004-07-07.pdf : File is not SDS file.\n",
      "./DORIS/784800/SDS_US_US_EN_2015-06-01.pdf : is an sds document.\n",
      "Record with product_name='Sodium Tolyltriazole 50% Solution' and manufacturer='NORTH Metal and Chemical Company' already exists.\n",
      "./DORIS/771863/SDS_US_US_EN_2010-02-02.pdf : is an sds document.\n",
      "Some error in parsing pdf : ./DORIS/771863/SDS_US_US_EN_2010-02-02.pdf\n",
      "./DORIS/788518/SA_Product category_GLO_EN_2021-06-09.pdf : File is not SDS file.\n",
      "./DORIS/788518/CoC_GLO_EN_2021-01-01.pdf : File is not SDS file.\n",
      "./DORIS/788518/CoC_GLO_EN_2019-03-20.pdf : File is not SDS file.\n",
      "./DORIS/788518/SDS_EU_DE_EN_2018-06-24.pdf : is an sds document.\n",
      "Record with product_name='SEA BLOSSOMS' and manufacturer='Firmenich GmbH' already exists.\n",
      "./DORIS/788518/SDS_EU_FR_DE_2021-03-20.pdf : is an sds document.\n",
      "Record with product_name='P63K280 - BLOSSOMS' and manufacturer='Firmenich & Cie SAS' already exists.\n",
      "./DORIS/788518/Certif_Other_GLO_EN_2019-03-20.pdf : File is not SDS file.\n",
      "./DORIS/788518/SDS_EU_DE_DE_2020-05-10.pdf : is an sds document.\n",
      "Record with product_name='P63K280 - SEA BLOSSOMS' and manufacturer='Firmenich GmbH' already exists.\n",
      "./DORIS/788518/CoA_GLO_EN_2021-03-15.pdf : File is not SDS file.\n",
      "./DORIS/788518/Spec_GLO_EN_2019-03-25.pdf : File is not SDS file.\n",
      "./DORIS/788518/Certif_IFRA_GLO_EN_2020-05-11.pdf : File is not SDS file.\n",
      "./DORIS/762154/SDS_AP_JP_JA_2011-04-01.pdf : is an sds document.\n"
     ]
    },
    {
     "name": "stderr",
     "output_type": "stream",
     "text": [
      "invalid pdf header: b'\\x89PNG\\r'\n",
      "EOF marker not found\n",
      "EOF marker not found\n",
      "EOF marker not found\n",
      "invalid pdf header: b'PK\\x03\\x04\\x14'\n",
      "EOF marker not found\n",
      "invalid pdf header: b'if (a'\n",
      "EOF marker not found\n"
     ]
    },
    {
     "name": "stdout",
     "output_type": "stream",
     "text": [
      "Record with product_name='' and manufacturer='' already exists.\n",
      "./DORIS/762154/SDS_US_JP_EN_2011-03-30.PNG : is not PDF\n",
      "./DORIS/762154/SDS_US_JP_EN_2011-03-30.PNG : is an sds document.\n",
      "Some error in parsing pdf : ./DORIS/762154/SDS_US_JP_EN_2011-03-30.PNG\n",
      "./DORIS/762154/SDS_GHS_BB_ID_Not available.xlsx : is not PDF\n",
      "./DORIS/762154/SDS_GHS_BB_ID_Not available.xlsx : is an sds document.\n",
      "Some error in parsing pdf : ./DORIS/762154/SDS_GHS_BB_ID_Not available.xlsx\n",
      "./DORIS/762154/GIS_GLO_EN_2018-01-14.PDF : File is not SDS file.\n",
      "./DORIS/762154/SDS_Other_JP_EN_2023-09-07.txt : is not PDF\n",
      "./DORIS/762154/SDS_Other_JP_EN_2023-09-07.txt : is an sds document.\n",
      "Some error in parsing pdf : ./DORIS/762154/SDS_Other_JP_EN_2023-09-07.txt\n",
      "./DORIS/762154/TDS_GLO_EN_2016-02-12.pdf : File is not SDS file.\n",
      "./DORIS/790098/SoC_Regulatory_GLO_EN_2022-02-16.pdf : File is not SDS file.\n",
      "./DORIS/790098/Certif_Halal_GLO_EN_2019-07-11.pdf : File is not SDS file.\n",
      "./DORIS/790098/CoA_GLO_EN_2022-04-25.pdf : File is not SDS file.\n",
      "./DORIS/790098/SDS_US_US_EN_2022-03-15.pdf : is an sds document.\n",
      "./DORIS/790098/CoC_GLO_EN_2022-04-13.pdf : File is not SDS file.\n",
      "./DORIS/790098/TDT_GLO_EN_2019-08-06.pdf : File is not SDS file.\n",
      "./DORIS/790098/RMQ_GLO_EN_2019-12-03.pdf : File is not SDS file.\n",
      "./DORIS/790098/Spec_GLO_EN_2020-10-14.pdf : File is not SDS file.\n",
      "./DORIS/790098/TA_GLO_EN_2018-03-03.pdf : File is not SDS file.\n",
      "./DORIS/790098/SoC_General_GLO_EN_2020-04-29.pdf : File is not SDS file.\n",
      "./DORIS/790098/SDS_EU_NL_EN_2022-03-15.pdf : is an sds document.\n",
      "Record with product_name='Styleze ™ ES-1 polymer' and manufacturer='Ashland' already exists.\n",
      "./DORIS/790098/SDS_EU_NL_DE_2022-12-31.PDF : is an sds document.\n",
      "./DORIS/790098/SoC_Other_GLO_EN_2019-06-07.pdf : File is not SDS file.\n",
      "./DORIS/745979/SDS_Other_FR_DE_2012-02-02.pdf : is an sds document.\n",
      "./DORIS/745979/CL_GLO_EN_2012-02-03.pdf : File is not SDS file.\n",
      "./DORIS/745979/SDS_Other_GB_EN_2014-05-28.pdf : is an sds document.\n",
      "./DORIS/745979/Oth_GLO_DE_2003-12-01.pdf : File is not SDS file.\n",
      "./DORIS/745979/Spec_GLO_EN,FR_2003-04-02.pdf : File is not SDS file.\n",
      "./DORIS/745979/Spec_GLO_EN_2002-03-01.pdf : File is not SDS file.\n",
      "./DORIS/745979/SDS_Other_FR_EN_2012-02-02.pdf : is an sds document.\n",
      "Record with product_name='VIOLET NO. 401 (ALIZUROL PURPLE)/ EXT. D&C VIOLET #2' and manufacturer='' already exists.\n",
      "./DORIS/745979/TDS_GLO_EN,FR_2005-08-30.pdf : File is not SDS file.\n",
      "./DORIS/745979/CoA_GLO_EN_2011-11-30.pdf : File is not SDS file.\n",
      "./DORIS/745979/SDS_Other_GLO_EN_1996-09-30.pdf : is an sds document.\n",
      "Some error in parsing pdf : ./DORIS/745979/SDS_Other_GLO_EN_1996-09-30.pdf\n",
      "./DORIS/745979/Certif_Other_GLO_EN_2007-01-22.pdf : File is not SDS file.\n",
      "./DORIS/745979/SDS_EU_DE_DE_2013-05-15.pdf : is an sds document.\n",
      "./DORIS/745979/FC_FDA_GLO_EN_2004-04-01.pdf : File is not SDS file.\n",
      "./DORIS/772643/TDS_GLO_EN_2010-08-30.pdf : File is not SDS file.\n",
      "./DORIS/772643/SDS_EU_GLO_FR_2017-11-17.pdf : is an sds document.\n",
      "./DORIS/772643/SDS_Other_GLO_EN_2009-01-12.pdf : is an sds document.\n",
      "./DORIS/772643/Oth_GLO_EN_2018-09-06.pdf : File is not SDS file.\n",
      "./DORIS/772643/SDS_US_GLO_EN_2017-11-17.pdf : is an sds document.\n",
      "Record with product_name='Kraton™ D Polymers (SIS)' and manufacturer='Kraton Polymers LLC' already exists.\n",
      "./DORIS/790648/Certif_IFRA_GLO_EN_2019-11-18.pdf : File is not SDS file.\n",
      "./DORIS/790648/CoC_GLO_EN_2021-09-02.pdf : File is not SDS file.\n",
      "./DORIS/790648/Certif_Other_GLO_EN_2019-01-08.pdf : File is not SDS file.\n",
      "./DORIS/790648/Spec_GLO_EN_2019-11-19.pdf : File is not SDS file.\n",
      "./DORIS/790648/SDS_US_US_EN_2019-10-16.pdf : is an sds document.\n",
      "./DORIS/778141/CoA_GLO_EN_2015-01-05.pdf : File is not SDS file.\n",
      "./DORIS/778141/CoC_GLO_EN_2016-03-18.pdf : File is not SDS file.\n",
      "./DORIS/778141/SDS_EU_DE_EN_2015-11-27.pdf : is an sds document.\n",
      "./DORIS/778141/Certif_IFRA_GLO_EN_2016-04-27.pdf : File is not SDS file.\n",
      "./DORIS/778141/Spec_GLO_EN_2016-04-21.pdf : File is not SDS file.\n",
      "./DORIS/778141/SDS_Other_DE_EN_2014-12-13.pdf : is an sds document.\n",
      "./DORIS/778141/SDS_EU_DE_DE_2015-11-27.pdf : is an sds document.\n",
      "Record with product_name='MAGNO GOLD DEO W/ON' and manufacturer='Symrise AG' already exists.\n",
      "./DORIS/778141/SDS_EU_DE_HU_2022-03-28.PDF : is an sds document.\n",
      "Record with product_name='MAGNO GOLD DEO W/ON' and manufacturer='Symrise AG' already exists.\n",
      "./DORIS/778141/Certif_Other_GLO_EN_2016-04-28.pdf : File is not SDS file.\n",
      "./DORIS/778141/SDS_Other_DE_DE_2014-12-13.pdf : is an sds document.\n",
      "Record with product_name='MAGNO GOLD DEO W/ON' and manufacturer='Holzminden' already exists.\n",
      "./DORIS/778141/SA_Product category_GLO_EN_2016-04-27.pdf : File is not SDS file.\n",
      "./DORIS/762683/TDS_GLO_EN_2002-10-05.pdf : File is not SDS file.\n",
      "./DORIS/762683/SDS_Other_BE_EN_2006-02-16.pdf : is an sds document.\n",
      "./DORIS/762683/SDS_US_US_EN_2004-05-18.pdf : is an sds document.\n",
      "Some error in parsing pdf : ./DORIS/762683/SDS_US_US_EN_2004-05-18.pdf\n",
      "./DORIS/814076/TDS_GLO_EN_Not available.pdf : File is not SDS file.\n",
      "./DORIS/814076/CoA_GLO_EN_2023-01-12.pdf : File is not SDS file.\n",
      "./DORIS/814076/SDS_Other_JP_EN_2022-03-03.pdf : is an sds document.\n",
      "./DORIS/814076/Oth_GHS Labeling_GLO_EN_Not available.pdf : File is not SDS file.\n",
      "./DORIS/814076/RMQ_GLO_EN,ZH_2023-04-17.pdf : File is not SDS file.\n",
      "./DORIS/814076/Spec_GLO_EN,ZH_Not available.pdf : File is not SDS file.\n",
      "./DORIS/776576/TDS_GLO_TR_Not available.pdf : File is not SDS file.\n",
      "./DORIS/776576/SDS_Other_TR_EN_2011-02-11.pdf : is an sds document.\n",
      "Some error in parsing pdf : ./DORIS/776576/SDS_Other_TR_EN_2011-02-11.pdf\n",
      "./DORIS/769378/SDS_US_US_EN_2010-08-31.pdf : is an sds document.\n",
      "./DORIS/795258/TDS_GLO_EN_Not available.pdf : File is not SDS file.\n",
      "./DORIS/795258/CoA_GLO_EN_Not available.pdf : File is not SDS file.\n",
      "./DORIS/795258/RMQ_GLO_EN_2022-05-31.pdf : File is not SDS file.\n",
      "./DORIS/795258/SDS_US_CN_EN_2022-04-15.pdf : is an sds document.\n",
      "./DORIS/795258/TDS_GLO_RU_Not available.pdf : File is not SDS file.\n",
      "./DORIS/795258/SDS_US_CN_RU_2022-04-15.pdf : is an sds document.\n",
      "./DORIS/771943/SDS_AP_JP_EN_2023-02-01.pdf : is an sds document.\n",
      "./DORIS/771943/SDS_Other_JP_EN_2011-04-06.pdf : is an sds document.\n",
      "./DORIS/771943/Spec_GLO_EN_2012-03-26.pdf : File is not SDS file.\n",
      "./DORIS/771943/SoC_Other_GLO_EN_2019-06-12.pdf : File is not SDS file.\n",
      "./DORIS/771943/SDS_GHS_JP_EN_2019-03-13.pdf : is an sds document.\n",
      "Record with product_name='PEMP' and manufacturer='SC ORGANIC CHEMICAL CO., LTD.' already exists.\n",
      "./DORIS/771943/SDS_AP_JP_KO_2015-04-14.pdf : is an sds document.\n",
      "Some error in parsing pdf : ./DORIS/771943/SDS_AP_JP_KO_2015-04-14.pdf\n",
      "./DORIS/771943/SC_GLO_EN_2023-07-11.pdf : File is not SDS file.\n",
      "./DORIS/771943/SDS_AP_JP_JA_2019-03-01.pdf : is an sds document.\n",
      "./DORIS/771943/CoA_GLO_EN_2023-04-07.pdf : File is not SDS file.\n",
      "./DORIS/771943/GIS_GLO_EN_2012-03-26.pdf : File is not SDS file.\n",
      "./DORIS/771943/SDS_GHS_JP_ZH_2021-05-10.pdf : is an sds document.\n",
      "./DORIS/800518/Spec_GLO_EN_2022-08-17.pdf : File is not SDS file.\n",
      "./DORIS/800518/Certif_IFRA_GLO_EN_2022-08-16.PDF : File is not SDS file.\n",
      "./DORIS/800518/SDS_EU_DE_DE_2022-08-16.PDF : is an sds document.\n",
      "./DORIS/800518/Certif_Fragrance Flavour_GLO_EN_2022-08-17.pdf : File is not SDS file.\n",
      "./DORIS/800518/SoC_General_GLO_EN_2022-08-16.pdf : File is not SDS file.\n",
      "./DORIS/800518/CoC_GLO_EN_2022-08-17.pdf : File is not SDS file.\n",
      "./DORIS/800518/SA_Product Category_GLO_EN_2022-08-17.PDF : File is not SDS file.\n",
      "./DORIS/800518/SDS_EU_AL_HR_2023-09-04.pdf : is an sds document.\n",
      "./DORIS/800518/SDS_EU_DE_EN_2022-08-16.PDF : is an sds document.\n",
      "Record with product_name='GLOSSY HUG' and manufacturer='Symrise AG' already exists.\n"
     ]
    }
   ],
   "source": [
    "for file_path in files:\n",
    "    result = is_pdf_and_starts_with_sds(file_path)  \n",
    "    if result:\n",
    "        insert_extraction(db_name, result)\n",
    "        conn.commit()"
   ]
  },
  {
   "cell_type": "code",
   "execution_count": null,
   "id": "c0c57b96-077f-4b01-9fd3-941dbc7e4f4c",
   "metadata": {},
   "outputs": [],
   "source": []
  },
  {
   "cell_type": "code",
   "execution_count": null,
   "id": "6a3f4ef9-42ae-4746-961b-c819529b042b",
   "metadata": {},
   "outputs": [],
   "source": []
  },
  {
   "cell_type": "code",
   "execution_count": null,
   "id": "2bda2975-57dc-4ba0-95e9-86e584571206",
   "metadata": {
    "tags": []
   },
   "outputs": [],
   "source": [
    "with sqlite3.connect('extractions.db') as conn:\n",
    "    cursor = conn.cursor()\n",
    "    cursor.execute('SELECT * FROM Extraction')\n",
    "    rows = cursor.fetchall()\n",
    "    \n",
    "rows"
   ]
  },
  {
   "cell_type": "code",
   "execution_count": null,
   "id": "c20a1757-c347-4738-a97d-3b918cc679ce",
   "metadata": {},
   "outputs": [],
   "source": []
  },
  {
   "cell_type": "code",
   "execution_count": 45,
   "id": "f75978ab-d40e-49b5-b446-335b9c576aed",
   "metadata": {
    "tags": []
   },
   "outputs": [],
   "source": [
    "def extract_data(ocr_text: str) -> Extraction:\n",
    "    chat_completion = groq.chat.completions.create(\n",
    "        messages=[\n",
    "            {\n",
    "                \"role\": \"system\",\n",
    "                \"content\": \"You are an information extractor agent. Your task is to extract specific pieces of information from the given text and outputs in JSON.. If not explicitly provided do not guess. Return empty string for respective key if data not extracted.\\n\"\n",
    "                f\" The JSON object must use the schema: {json.dumps(Extraction.model_json_schema(), indent=2)}\",\n",
    "            },\n",
    "            {\n",
    "                \"role\": \"user\",\n",
    "                \"content\": f\"Given text : \\n {ocr_text}\",\n",
    "            },\n",
    "        ],\n",
    "        model=\"llama3-8b-8192\",\n",
    "        temperature=0,\n",
    "        stream=False,\n",
    "        response_format={\"type\": \"json_object\"},\n",
    "    )\n",
    "    return Extraction.model_validate_json(chat_completion.choices[0].message.content)\n"
   ]
  },
  {
   "cell_type": "code",
   "execution_count": null,
   "id": "98090282-4627-41e9-9b8e-4ab398c4d018",
   "metadata": {},
   "outputs": [],
   "source": []
  },
  {
   "cell_type": "code",
   "execution_count": 39,
   "id": "addc9012-5b61-49a2-ba4e-278dfd69e1ff",
   "metadata": {
    "tags": []
   },
   "outputs": [],
   "source": [
    "### Test doc :"
   ]
  },
  {
   "cell_type": "code",
   "execution_count": 40,
   "id": "7597728e-7c93-49b2-8eb3-ec30cb29ef03",
   "metadata": {
    "tags": []
   },
   "outputs": [],
   "source": [
    "test_pdf = PyPDFLoader('./test-doocs/SDS_US_US_EN_2021-08-23.pdf')"
   ]
  },
  {
   "cell_type": "code",
   "execution_count": 43,
   "id": "9ecf2bcd-2fb4-42b7-909e-02bc480cce85",
   "metadata": {
    "tags": []
   },
   "outputs": [],
   "source": [
    "test_pages = test_pdf.load_and_split()"
   ]
  },
  {
   "cell_type": "code",
   "execution_count": 44,
   "id": "d96cabaf-e7f4-4b81-93df-2689eeec5e45",
   "metadata": {
    "tags": []
   },
   "outputs": [
    {
     "data": {
      "text/plain": [
       "'SAFETY DATA SHEET \\nIn accordance with the requirements of US 29 CFR Pa rts 1910, 1915, \\nand 1926.   \\n \\n \\nMOUNTAIN GIV B HN2021 \\nVersion 2.1 Revision Date 23 AUG 2021  Print Date 23 AUG 2021  \\n \\n \\nAdministrative information:  \\nReport Information: SDS_US/EN/GHS_SDS_NA_REGION/23 \\nSales & Distribution Information:  MW01/FR/US13/01 \\nShipping Order Information:  22,182,740/15,834,435  \\n  1/13  \\n SECTION 1. PRODUCT AND COMPANY IDENTIFICATION  \\nProduct information \\n \\nSales No.  : UAK04037/00  \\nMOUNTAIN GIV B HN2021  \\n \\nRelevant identified uses of \\nthe substance or mixture \\nand uses advised against  \\nIntended Use  Fragrances : Perfume compound \\n \\nCompany  :  \\nGivaudan Fragrances Corp. \\n300 Waterloo Valley Road \\nInternational Trade Center \\nMOUNT OLIVE NJ  07828 \\nUNITED STATES OF AMERICA \\n \\n+12152070061 \\nEmergency telephone \\nnumber : +18669280789  \\nPlease refer to section 16 for a full list of emerg ency phone numbers. \\n \\n \\nSECTION 2. HAZARDS IDENTIFICATION \\n \\nClassification according to HCS 2012 (29 CFR Parts 1910, 1915, and 1926) \\nFlammable liquids, Category 4  H227: Combustible liquid. \\nSkin irritation, Category 2  H315: Causes skin irritation. \\nSkin sensitisation, Category 1  H317: May cause an allergic skin reaction. \\n \\nLabel elements \\nLabelling (REGULATION 29 CFR Parts 1910, 1915, and 1926). \\nHazard pictograms :  \\n     \\n \\nSignal word : Warning \\n \\nHazard statements : H227 Combustible liquid. \\nH315 Causes skin irritation. \\nH317 May cause an allergic skin reaction. \\n \\nPrecautionary statements : Prevention :'"
      ]
     },
     "execution_count": 44,
     "metadata": {},
     "output_type": "execute_result"
    }
   ],
   "source": [
    "test_pages[0].page_content"
   ]
  },
  {
   "cell_type": "code",
   "execution_count": 46,
   "id": "73e0e6eb-5729-4754-a5e4-06aaa24b99a7",
   "metadata": {
    "tags": []
   },
   "outputs": [
    {
     "data": {
      "text/plain": [
       "Extraction(product_name='MOUNTAIN GIV B HN2021', manufacturer='Givaudan Fragrances Corp.', address='300 Waterloo Valley Road, International Trade Center, MOUNT OLIVE NJ  07828, UNITED STATES OF AMERICA')"
      ]
     },
     "execution_count": 46,
     "metadata": {},
     "output_type": "execute_result"
    }
   ],
   "source": [
    "extract_data(test_pages[0].page_content)"
   ]
  },
  {
   "cell_type": "code",
   "execution_count": 47,
   "id": "6e53fe73-5919-439b-a68c-82ae0fedd08d",
   "metadata": {
    "tags": []
   },
   "outputs": [],
   "source": [
    "def check_if_document_is_present_in_db(db_name, extraction):\n",
    "    with sqlite3.connect(db_name) as conn:\n",
    "        cursor = conn.cursor()        \n",
    "        cursor.execute('''\n",
    "        SELECT 1 FROM Extraction\n",
    "        WHERE product_name = ? AND manufacturer = ?\n",
    "        ''', (extraction.product_name, extraction.manufacturer))\n",
    "\n",
    "        if cursor.fetchone():\n",
    "            return f\"Record with product_name='{extraction.product_name}' and manufacturer='{extraction.manufacturer}' already exists.\"\n"
   ]
  },
  {
   "cell_type": "code",
   "execution_count": 48,
   "id": "cac0f549-eff7-45ec-975f-14ce3481b0e0",
   "metadata": {
    "tags": []
   },
   "outputs": [],
   "source": [
    "db_name = 'extractions.db'"
   ]
  },
  {
   "cell_type": "code",
   "execution_count": 49,
   "id": "0cc9f2ab-e629-4c13-baa8-8402cf8a6b9c",
   "metadata": {
    "tags": []
   },
   "outputs": [
    {
     "data": {
      "text/plain": [
       "\"Record with product_name='MOUNTAIN GIV B HN2021' and manufacturer='Givaudan Fragrances Corp.' already exists.\""
      ]
     },
     "execution_count": 49,
     "metadata": {},
     "output_type": "execute_result"
    }
   ],
   "source": [
    "check_if_document_is_present_in_db(db_name, extract_data(test_pages[0].page_content))"
   ]
  },
  {
   "cell_type": "code",
   "execution_count": null,
   "id": "225893ff",
   "metadata": {},
   "outputs": [],
   "source": []
  }
 ],
 "metadata": {
  "kernelspec": {
   "display_name": "Python 3",
   "language": "python",
   "name": "python3"
  },
  "language_info": {
   "codemirror_mode": {
    "name": "ipython",
    "version": 3
   },
   "file_extension": ".py",
   "mimetype": "text/x-python",
   "name": "python",
   "nbconvert_exporter": "python",
   "pygments_lexer": "ipython3",
   "version": "3.9.6"
  }
 },
 "nbformat": 4,
 "nbformat_minor": 5
}
